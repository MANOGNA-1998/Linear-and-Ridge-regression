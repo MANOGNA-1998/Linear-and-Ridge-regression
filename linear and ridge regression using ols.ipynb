{
 "cells": [
  {
   "cell_type": "code",
   "execution_count": 265,
   "id": "88b1f365",
   "metadata": {},
   "outputs": [],
   "source": [
    "import numpy as np\n",
    "import matplotlib.pyplot as plt\n",
    "import pandas as pd"
   ]
  },
  {
   "cell_type": "code",
   "execution_count": 266,
   "id": "e5d27a45",
   "metadata": {},
   "outputs": [],
   "source": [
    "# 2. Read and preprocess"
   ]
  },
  {
   "cell_type": "code",
   "execution_count": 267,
   "id": "685c6a51",
   "metadata": {},
   "outputs": [],
   "source": [
    "df = pd.read_csv(\"diamond.csv\")"
   ]
  },
  {
   "cell_type": "code",
   "execution_count": 268,
   "id": "2db78c93",
   "metadata": {},
   "outputs": [
    {
     "data": {
      "text/html": [
       "<div>\n",
       "<style scoped>\n",
       "    .dataframe tbody tr th:only-of-type {\n",
       "        vertical-align: middle;\n",
       "    }\n",
       "\n",
       "    .dataframe tbody tr th {\n",
       "        vertical-align: top;\n",
       "    }\n",
       "\n",
       "    .dataframe thead th {\n",
       "        text-align: right;\n",
       "    }\n",
       "</style>\n",
       "<table border=\"1\" class=\"dataframe\">\n",
       "  <thead>\n",
       "    <tr style=\"text-align: right;\">\n",
       "      <th></th>\n",
       "      <th>Unnamed: 0</th>\n",
       "      <th>carat</th>\n",
       "      <th>cut</th>\n",
       "      <th>color</th>\n",
       "      <th>clarity</th>\n",
       "      <th>average us salary</th>\n",
       "      <th>number of diamonds mined (millions)</th>\n",
       "      <th>depth</th>\n",
       "      <th>table</th>\n",
       "      <th>price</th>\n",
       "      <th>x</th>\n",
       "      <th>y</th>\n",
       "      <th>z</th>\n",
       "    </tr>\n",
       "  </thead>\n",
       "  <tbody>\n",
       "    <tr>\n",
       "      <th>0</th>\n",
       "      <td>1</td>\n",
       "      <td>0.23</td>\n",
       "      <td>Ideal</td>\n",
       "      <td>E</td>\n",
       "      <td>SI2</td>\n",
       "      <td>31282</td>\n",
       "      <td>5.01</td>\n",
       "      <td>61.5</td>\n",
       "      <td>55</td>\n",
       "      <td>326</td>\n",
       "      <td>3.95</td>\n",
       "      <td>3.98</td>\n",
       "      <td>2.43</td>\n",
       "    </tr>\n",
       "    <tr>\n",
       "      <th>1</th>\n",
       "      <td>2</td>\n",
       "      <td>0.21</td>\n",
       "      <td>Premium</td>\n",
       "      <td>E</td>\n",
       "      <td>SI1</td>\n",
       "      <td>40049</td>\n",
       "      <td>1.69</td>\n",
       "      <td>59.8</td>\n",
       "      <td>61</td>\n",
       "      <td>326</td>\n",
       "      <td>3.89</td>\n",
       "      <td>3.84</td>\n",
       "      <td>2.31</td>\n",
       "    </tr>\n",
       "    <tr>\n",
       "      <th>2</th>\n",
       "      <td>3</td>\n",
       "      <td>0.23</td>\n",
       "      <td>Good</td>\n",
       "      <td>E</td>\n",
       "      <td>VS1</td>\n",
       "      <td>33517</td>\n",
       "      <td>3.85</td>\n",
       "      <td>56.9</td>\n",
       "      <td>65</td>\n",
       "      <td>327</td>\n",
       "      <td>4.05</td>\n",
       "      <td>4.07</td>\n",
       "      <td>2.31</td>\n",
       "    </tr>\n",
       "    <tr>\n",
       "      <th>3</th>\n",
       "      <td>4</td>\n",
       "      <td>0.29</td>\n",
       "      <td>Premium</td>\n",
       "      <td>I</td>\n",
       "      <td>VS2</td>\n",
       "      <td>38495</td>\n",
       "      <td>3.49</td>\n",
       "      <td>62.4</td>\n",
       "      <td>58</td>\n",
       "      <td>334</td>\n",
       "      <td>4.2</td>\n",
       "      <td>4.23</td>\n",
       "      <td>2.63</td>\n",
       "    </tr>\n",
       "    <tr>\n",
       "      <th>4</th>\n",
       "      <td>5</td>\n",
       "      <td>0.31</td>\n",
       "      <td>Good</td>\n",
       "      <td>J</td>\n",
       "      <td>SI2</td>\n",
       "      <td>34178</td>\n",
       "      <td>4.70</td>\n",
       "      <td>63.3</td>\n",
       "      <td>58</td>\n",
       "      <td>335</td>\n",
       "      <td>4.34</td>\n",
       "      <td>4.35</td>\n",
       "      <td>2.75</td>\n",
       "    </tr>\n",
       "  </tbody>\n",
       "</table>\n",
       "</div>"
      ],
      "text/plain": [
       "  Unnamed: 0 carat      cut color clarity  average us salary  \\\n",
       "0          1  0.23    Ideal     E     SI2              31282   \n",
       "1          2  0.21  Premium     E     SI1              40049   \n",
       "2          3  0.23     Good     E     VS1              33517   \n",
       "3          4  0.29  Premium     I     VS2              38495   \n",
       "4          5  0.31     Good     J     SI2              34178   \n",
       "\n",
       "   number of diamonds mined (millions) depth table price     x     y     z  \n",
       "0                                 5.01  61.5    55   326  3.95  3.98  2.43  \n",
       "1                                 1.69  59.8    61   326  3.89  3.84  2.31  \n",
       "2                                 3.85  56.9    65   327  4.05  4.07  2.31  \n",
       "3                                 3.49  62.4    58   334   4.2  4.23  2.63  \n",
       "4                                 4.70  63.3    58   335  4.34  4.35  2.75  "
      ]
     },
     "execution_count": 268,
     "metadata": {},
     "output_type": "execute_result"
    }
   ],
   "source": [
    "df.head()"
   ]
  },
  {
   "cell_type": "code",
   "execution_count": 269,
   "id": "4e3768d9",
   "metadata": {},
   "outputs": [],
   "source": [
    "df.drop(columns = [\"Unnamed: 0\"], inplace = True)"
   ]
  },
  {
   "cell_type": "code",
   "execution_count": 270,
   "id": "88af3498",
   "metadata": {},
   "outputs": [],
   "source": [
    "# Taking a look at NaN values by column"
   ]
  },
  {
   "cell_type": "code",
   "execution_count": 271,
   "id": "4fdb0dd2",
   "metadata": {},
   "outputs": [
    {
     "name": "stdout",
     "output_type": "stream",
     "text": [
      "Col: carat; NaN count: 1510; Percentage NaN: 2.799406748238784\n",
      "Col: cut; NaN count: 1293; Percentage NaN: 2.397107897664071\n",
      "Col: color; NaN count: 1512; Percentage NaN: 2.803114571746385\n",
      "Col: clarity; NaN count: 353; Percentage NaN: 0.6544308490915832\n",
      "Col: average us salary; NaN count: 0; Percentage NaN: 0.0\n",
      "Col: number of diamonds mined (millions); NaN count: 0; Percentage NaN: 0.0\n",
      "Col: depth; NaN count: 694; Percentage NaN: 1.2866147571375603\n",
      "Col: table; NaN count: 1542; Percentage NaN: 2.8587319243604004\n",
      "Col: price; NaN count: 1583; Percentage NaN: 2.9347423062662217\n",
      "Col: x; NaN count: 1526; Percentage NaN: 2.8290693362995922\n",
      "Col: y; NaN count: 1221; Percentage NaN: 2.2636262513904337\n",
      "Col: z; NaN count: 1433; Percentage NaN: 2.656655543196144\n"
     ]
    }
   ],
   "source": [
    "for col in df.columns:\n",
    "    print(f\"Col: {col}; NaN count: {df[col].isna().sum()}; Percentage NaN: {100 * (df[col].isna().sum()/df.shape[0])}\")"
   ]
  },
  {
   "cell_type": "code",
   "execution_count": 272,
   "id": "2839169b",
   "metadata": {},
   "outputs": [],
   "source": [
    "# As there are not a lot of NaN records, dropping them"
   ]
  },
  {
   "cell_type": "code",
   "execution_count": 273,
   "id": "d6fec0ee",
   "metadata": {},
   "outputs": [],
   "source": [
    "df.dropna(inplace = True)"
   ]
  },
  {
   "cell_type": "code",
   "execution_count": 274,
   "id": "c91d65ce",
   "metadata": {},
   "outputs": [
    {
     "data": {
      "text/html": [
       "<div>\n",
       "<style scoped>\n",
       "    .dataframe tbody tr th:only-of-type {\n",
       "        vertical-align: middle;\n",
       "    }\n",
       "\n",
       "    .dataframe tbody tr th {\n",
       "        vertical-align: top;\n",
       "    }\n",
       "\n",
       "    .dataframe thead th {\n",
       "        text-align: right;\n",
       "    }\n",
       "</style>\n",
       "<table border=\"1\" class=\"dataframe\">\n",
       "  <thead>\n",
       "    <tr style=\"text-align: right;\">\n",
       "      <th></th>\n",
       "      <th>carat</th>\n",
       "      <th>cut</th>\n",
       "      <th>color</th>\n",
       "      <th>clarity</th>\n",
       "      <th>average us salary</th>\n",
       "      <th>number of diamonds mined (millions)</th>\n",
       "      <th>depth</th>\n",
       "      <th>table</th>\n",
       "      <th>price</th>\n",
       "      <th>x</th>\n",
       "      <th>y</th>\n",
       "      <th>z</th>\n",
       "    </tr>\n",
       "  </thead>\n",
       "  <tbody>\n",
       "    <tr>\n",
       "      <th>0</th>\n",
       "      <td>0.23</td>\n",
       "      <td>Ideal</td>\n",
       "      <td>E</td>\n",
       "      <td>SI2</td>\n",
       "      <td>31282</td>\n",
       "      <td>5.01</td>\n",
       "      <td>61.5</td>\n",
       "      <td>55</td>\n",
       "      <td>326</td>\n",
       "      <td>3.95</td>\n",
       "      <td>3.98</td>\n",
       "      <td>2.43</td>\n",
       "    </tr>\n",
       "    <tr>\n",
       "      <th>1</th>\n",
       "      <td>0.21</td>\n",
       "      <td>Premium</td>\n",
       "      <td>E</td>\n",
       "      <td>SI1</td>\n",
       "      <td>40049</td>\n",
       "      <td>1.69</td>\n",
       "      <td>59.8</td>\n",
       "      <td>61</td>\n",
       "      <td>326</td>\n",
       "      <td>3.89</td>\n",
       "      <td>3.84</td>\n",
       "      <td>2.31</td>\n",
       "    </tr>\n",
       "    <tr>\n",
       "      <th>2</th>\n",
       "      <td>0.23</td>\n",
       "      <td>Good</td>\n",
       "      <td>E</td>\n",
       "      <td>VS1</td>\n",
       "      <td>33517</td>\n",
       "      <td>3.85</td>\n",
       "      <td>56.9</td>\n",
       "      <td>65</td>\n",
       "      <td>327</td>\n",
       "      <td>4.05</td>\n",
       "      <td>4.07</td>\n",
       "      <td>2.31</td>\n",
       "    </tr>\n",
       "    <tr>\n",
       "      <th>3</th>\n",
       "      <td>0.29</td>\n",
       "      <td>Premium</td>\n",
       "      <td>I</td>\n",
       "      <td>VS2</td>\n",
       "      <td>38495</td>\n",
       "      <td>3.49</td>\n",
       "      <td>62.4</td>\n",
       "      <td>58</td>\n",
       "      <td>334</td>\n",
       "      <td>4.2</td>\n",
       "      <td>4.23</td>\n",
       "      <td>2.63</td>\n",
       "    </tr>\n",
       "    <tr>\n",
       "      <th>4</th>\n",
       "      <td>0.31</td>\n",
       "      <td>Good</td>\n",
       "      <td>J</td>\n",
       "      <td>SI2</td>\n",
       "      <td>34178</td>\n",
       "      <td>4.70</td>\n",
       "      <td>63.3</td>\n",
       "      <td>58</td>\n",
       "      <td>335</td>\n",
       "      <td>4.34</td>\n",
       "      <td>4.35</td>\n",
       "      <td>2.75</td>\n",
       "    </tr>\n",
       "  </tbody>\n",
       "</table>\n",
       "</div>"
      ],
      "text/plain": [
       "  carat      cut color clarity  average us salary  \\\n",
       "0  0.23    Ideal     E     SI2              31282   \n",
       "1  0.21  Premium     E     SI1              40049   \n",
       "2  0.23     Good     E     VS1              33517   \n",
       "3  0.29  Premium     I     VS2              38495   \n",
       "4  0.31     Good     J     SI2              34178   \n",
       "\n",
       "   number of diamonds mined (millions) depth table price     x     y     z  \n",
       "0                                 5.01  61.5    55   326  3.95  3.98  2.43  \n",
       "1                                 1.69  59.8    61   326  3.89  3.84  2.31  \n",
       "2                                 3.85  56.9    65   327  4.05  4.07  2.31  \n",
       "3                                 3.49  62.4    58   334   4.2  4.23  2.63  \n",
       "4                                 4.70  63.3    58   335  4.34  4.35  2.75  "
      ]
     },
     "execution_count": 274,
     "metadata": {},
     "output_type": "execute_result"
    }
   ],
   "source": [
    "df.head()"
   ]
  },
  {
   "cell_type": "code",
   "execution_count": 275,
   "id": "d93f10d9",
   "metadata": {},
   "outputs": [
    {
     "data": {
      "text/html": [
       "<div>\n",
       "<style scoped>\n",
       "    .dataframe tbody tr th:only-of-type {\n",
       "        vertical-align: middle;\n",
       "    }\n",
       "\n",
       "    .dataframe tbody tr th {\n",
       "        vertical-align: top;\n",
       "    }\n",
       "\n",
       "    .dataframe thead th {\n",
       "        text-align: right;\n",
       "    }\n",
       "</style>\n",
       "<table border=\"1\" class=\"dataframe\">\n",
       "  <thead>\n",
       "    <tr style=\"text-align: right;\">\n",
       "      <th></th>\n",
       "      <th>average us salary</th>\n",
       "      <th>number of diamonds mined (millions)</th>\n",
       "    </tr>\n",
       "  </thead>\n",
       "  <tbody>\n",
       "    <tr>\n",
       "      <th>count</th>\n",
       "      <td>49095.00000</td>\n",
       "      <td>49095.000000</td>\n",
       "    </tr>\n",
       "    <tr>\n",
       "      <th>mean</th>\n",
       "      <td>39500.32706</td>\n",
       "      <td>2.901399</td>\n",
       "    </tr>\n",
       "    <tr>\n",
       "      <th>std</th>\n",
       "      <td>5483.04741</td>\n",
       "      <td>1.326238</td>\n",
       "    </tr>\n",
       "    <tr>\n",
       "      <th>min</th>\n",
       "      <td>30000.00000</td>\n",
       "      <td>0.600000</td>\n",
       "    </tr>\n",
       "    <tr>\n",
       "      <th>25%</th>\n",
       "      <td>34751.00000</td>\n",
       "      <td>1.750000</td>\n",
       "    </tr>\n",
       "    <tr>\n",
       "      <th>50%</th>\n",
       "      <td>39527.00000</td>\n",
       "      <td>2.900000</td>\n",
       "    </tr>\n",
       "    <tr>\n",
       "      <th>75%</th>\n",
       "      <td>44219.00000</td>\n",
       "      <td>4.050000</td>\n",
       "    </tr>\n",
       "    <tr>\n",
       "      <th>max</th>\n",
       "      <td>48999.00000</td>\n",
       "      <td>5.200000</td>\n",
       "    </tr>\n",
       "  </tbody>\n",
       "</table>\n",
       "</div>"
      ],
      "text/plain": [
       "       average us salary  number of diamonds mined (millions)\n",
       "count        49095.00000                         49095.000000\n",
       "mean         39500.32706                             2.901399\n",
       "std           5483.04741                             1.326238\n",
       "min          30000.00000                             0.600000\n",
       "25%          34751.00000                             1.750000\n",
       "50%          39527.00000                             2.900000\n",
       "75%          44219.00000                             4.050000\n",
       "max          48999.00000                             5.200000"
      ]
     },
     "execution_count": 275,
     "metadata": {},
     "output_type": "execute_result"
    }
   ],
   "source": [
    "df.describe()"
   ]
  },
  {
   "cell_type": "code",
   "execution_count": 276,
   "id": "52034544",
   "metadata": {},
   "outputs": [
    {
     "data": {
      "text/plain": [
       "carat                                   object\n",
       "cut                                     object\n",
       "color                                   object\n",
       "clarity                                 object\n",
       "average us salary                        int64\n",
       "number of diamonds mined (millions)    float64\n",
       "depth                                   object\n",
       "table                                   object\n",
       "price                                   object\n",
       "x                                       object\n",
       "y                                       object\n",
       "z                                       object\n",
       "dtype: object"
      ]
     },
     "execution_count": 276,
     "metadata": {},
     "output_type": "execute_result"
    }
   ],
   "source": [
    "df.dtypes"
   ]
  },
  {
   "cell_type": "code",
   "execution_count": 277,
   "id": "6434b537",
   "metadata": {},
   "outputs": [],
   "source": [
    "# 4. Handling mismatched string formats"
   ]
  },
  {
   "cell_type": "code",
   "execution_count": 278,
   "id": "c1dec8b9",
   "metadata": {},
   "outputs": [],
   "source": [
    "df.cut = df.cut.astype(\"str\")\n",
    "df.cut = df.cut.apply(lambda x : x.lower())"
   ]
  },
  {
   "cell_type": "code",
   "execution_count": 279,
   "id": "1acc29f9",
   "metadata": {},
   "outputs": [],
   "source": [
    "df.color = df.color.astype(\"str\")\n",
    "df.color = df.color.apply(lambda x : x.lower())"
   ]
  },
  {
   "cell_type": "code",
   "execution_count": 280,
   "id": "c0fd0ab2",
   "metadata": {},
   "outputs": [],
   "source": [
    "df.clarity = df.clarity.astype(\"str\")\n",
    "df.clarity = df.clarity.apply(lambda x : x.lower())"
   ]
  },
  {
   "cell_type": "code",
   "execution_count": 281,
   "id": "aec564a2",
   "metadata": {},
   "outputs": [
    {
     "data": {
      "text/plain": [
       "ideal        19567\n",
       "premium      12546\n",
       "very good    10997\n",
       "good          4412\n",
       "fair          1474\n",
       "false           36\n",
       "maybe           32\n",
       "true            31\n",
       "Name: cut, dtype: int64"
      ]
     },
     "execution_count": 281,
     "metadata": {},
     "output_type": "execute_result"
    }
   ],
   "source": [
    "df.cut.value_counts()"
   ]
  },
  {
   "cell_type": "code",
   "execution_count": 282,
   "id": "91c1d080",
   "metadata": {},
   "outputs": [],
   "source": [
    "# Values like maybe, true, and false also don't really make sense. And those form a very little portion\n",
    "# of the dataset. So we can go ahead and drop them"
   ]
  },
  {
   "cell_type": "code",
   "execution_count": 283,
   "id": "1dce1890",
   "metadata": {},
   "outputs": [],
   "source": [
    "df = df[(df.cut != \"false\") & (df.cut != \"true\") & (df.cut != \"maybe\")]"
   ]
  },
  {
   "cell_type": "code",
   "execution_count": 284,
   "id": "db382311",
   "metadata": {},
   "outputs": [],
   "source": [
    "df = df[(df.color != \"false\") & (df.color != \"true\") & (df.color != \"maybe\")]"
   ]
  },
  {
   "cell_type": "code",
   "execution_count": 285,
   "id": "cd6baf3e",
   "metadata": {},
   "outputs": [],
   "source": [
    "df = df[(df.clarity != \"false\") & (df.clarity != \"true\") & (df.clarity != \"maybe\")]"
   ]
  },
  {
   "cell_type": "code",
   "execution_count": 286,
   "id": "d62e0042",
   "metadata": {},
   "outputs": [],
   "source": [
    "df[\"depth\"] = pd.to_numeric(df[\"depth\"], errors = \"coerce\")\n",
    "df[\"table\"] = pd.to_numeric(df[\"table\"], errors = \"coerce\")\n",
    "df[\"price\"] = pd.to_numeric(df[\"price\"], errors = \"coerce\")\n",
    "df[\"carat\"] = pd.to_numeric(df[\"carat\"], errors = \"coerce\")\n",
    "df[\"x\"] = pd.to_numeric(df[\"x\"], errors = \"coerce\")\n",
    "df[\"y\"] = pd.to_numeric(df[\"y\"], errors = \"coerce\")\n",
    "df[\"z\"] = pd.to_numeric(df[\"z\"], errors = \"coerce\")"
   ]
  },
  {
   "cell_type": "code",
   "execution_count": 287,
   "id": "2ad5dfcd",
   "metadata": {},
   "outputs": [],
   "source": [
    "# Handle Outliers"
   ]
  },
  {
   "cell_type": "code",
   "execution_count": 288,
   "id": "b06ddc38",
   "metadata": {},
   "outputs": [],
   "source": [
    "# Imputing the outliers using mean"
   ]
  },
  {
   "cell_type": "code",
   "execution_count": 289,
   "id": "ec642a15",
   "metadata": {},
   "outputs": [],
   "source": [
    "def replace_outliers_iqr(df):\n",
    "    df_replaced = df.copy()  \n",
    "\n",
    "    for col in df_replaced.select_dtypes(include=[np.number]).columns:  \n",
    "        quart_1, quart_3 = df_replaced[col].quantile(0.25), df_replaced[col].quantile(0.75)\n",
    "\n",
    "        inter_quart_range = quart_3 - quart_1 # https://en.wikipedia.org/wiki/Interquartile_range\n",
    "\n",
    "        lower_bound = quart_1 - 1.5 * inter_quart_range # Lower bound of the accepted values\n",
    "        upper_bound = quart_3 + 1.5 * inter_quart_range # Upper bound of the accepted values\n",
    "        mean = df_replaced[col].mean() # Mean of the column\n",
    "        \n",
    "        print(\"Col: \", col)\n",
    "        print(\"Imputed: \", len(df_replaced[(df_replaced[col] < lower_bound) | (df_replaced[col] > upper_bound)]), \" rows\")\n",
    "\n",
    "        df_replaced[col] = np.where((df_replaced[col] < lower_bound) | (df_replaced[col] > upper_bound), mean, df_replaced[col])\n",
    "\n",
    "    return df_replaced\n",
    "\n"
   ]
  },
  {
   "cell_type": "code",
   "execution_count": 290,
   "id": "651ee1a7",
   "metadata": {},
   "outputs": [
    {
     "name": "stdout",
     "output_type": "stream",
     "text": [
      "Col:  carat\n",
      "Imputed:  1691  rows\n",
      "Col:  average us salary\n",
      "Imputed:  0  rows\n",
      "Col:  number of diamonds mined (millions)\n",
      "Imputed:  0  rows\n",
      "Col:  depth\n",
      "Imputed:  2302  rows\n",
      "Col:  table\n",
      "Imputed:  545  rows\n",
      "Col:  price\n",
      "Imputed:  3208  rows\n",
      "Col:  x\n",
      "Imputed:  30  rows\n",
      "Col:  y\n",
      "Imputed:  28  rows\n",
      "Col:  z\n",
      "Imputed:  47  rows\n"
     ]
    }
   ],
   "source": [
    "df_replaced = replace_outliers_iqr(df)"
   ]
  },
  {
   "cell_type": "code",
   "execution_count": 291,
   "id": "a04bef8d",
   "metadata": {},
   "outputs": [],
   "source": [
    "codes = {\n",
    "    \"ideal\" : 5,\n",
    "    \"premium\" : 4,\n",
    "    \"very good\" : 3,\n",
    "    \"good\" : 2,\n",
    "    \"fair\" : 1\n",
    "}"
   ]
  },
  {
   "cell_type": "code",
   "execution_count": 292,
   "id": "d463b082",
   "metadata": {},
   "outputs": [],
   "source": [
    "df_replaced.cut = df_replaced.cut.apply(lambda x : codes[x])"
   ]
  },
  {
   "cell_type": "code",
   "execution_count": 293,
   "id": "cdb50698",
   "metadata": {},
   "outputs": [
    {
     "data": {
      "text/plain": [
       "5    19537\n",
       "4    12512\n",
       "3    10968\n",
       "2     4402\n",
       "1     1471\n",
       "Name: cut, dtype: int64"
      ]
     },
     "execution_count": 293,
     "metadata": {},
     "output_type": "execute_result"
    }
   ],
   "source": [
    "df_replaced.cut.value_counts()"
   ]
  },
  {
   "cell_type": "code",
   "execution_count": 294,
   "id": "de37028d",
   "metadata": {},
   "outputs": [],
   "source": [
    "df_replaced[\"color_g\"] = df_replaced.color.apply(lambda x : 1 if x == \"g\" else 0)\n",
    "df_replaced[\"color_e\"] = df_replaced.color.apply(lambda x : 1 if x == \"e\" else 0)\n",
    "df_replaced[\"color_f\"] = df_replaced.color.apply(lambda x : 1 if x == \"f\" else 0)\n",
    "df_replaced[\"color_h\"] = df_replaced.color.apply(lambda x : 1 if x == \"h\" else 0)\n",
    "df_replaced[\"color_d\"] = df_replaced.color.apply(lambda x : 1 if x == \"d\" else 0)\n",
    "df_replaced[\"color_i\"] = df_replaced.color.apply(lambda x : 1 if x == \"i\" else 0)\n",
    "df_replaced[\"color_j\"] = df_replaced.color.apply(lambda x : 1 if x == \"j\" else 0)\n"
   ]
  },
  {
   "cell_type": "code",
   "execution_count": 295,
   "id": "750f1c2f",
   "metadata": {},
   "outputs": [],
   "source": [
    "df_replaced.drop(columns = [\"color\"], inplace = True)"
   ]
  },
  {
   "cell_type": "code",
   "execution_count": 296,
   "id": "f2b5893a",
   "metadata": {},
   "outputs": [],
   "source": [
    "# As there is no info provided on the order, using the below order\n",
    "codes = {\n",
    "    \"si1\" : 8,\n",
    "    \"vs2\" : 7,\n",
    "    \"si2\" : 6,\n",
    "    \"vs1\" : 5,\n",
    "    \"vvs2\" : 4,\n",
    "    \"vvs1\" : 3,\n",
    "    \"if\" : 2,\n",
    "    \"i1\" : 1,\n",
    "}\n"
   ]
  },
  {
   "cell_type": "code",
   "execution_count": 297,
   "id": "853e9d8f",
   "metadata": {},
   "outputs": [],
   "source": [
    "df_replaced.clarity = df_replaced.clarity.apply(lambda x : codes[x])"
   ]
  },
  {
   "cell_type": "code",
   "execution_count": 298,
   "id": "a5b507ce",
   "metadata": {},
   "outputs": [],
   "source": [
    "# 7. Correlation Analysis"
   ]
  },
  {
   "cell_type": "code",
   "execution_count": 299,
   "id": "43b3ea72",
   "metadata": {},
   "outputs": [],
   "source": [
    "import seaborn as sns"
   ]
  },
  {
   "cell_type": "code",
   "execution_count": 300,
   "id": "41ccab49",
   "metadata": {},
   "outputs": [],
   "source": [
    "# By target = price"
   ]
  },
  {
   "cell_type": "code",
   "execution_count": 301,
   "id": "6fe613cf",
   "metadata": {},
   "outputs": [
    {
     "data": {
      "image/png": "[encoded data removed]",
      "text/plain": [
       "<Figure size 576x432 with 2 Axes>"
      ]
     },
     "metadata": {
      "needs_background": "light"
     },
     "output_type": "display_data"
    }
   ],
   "source": [
    "target_corr = df_replaced.corr()[[\"price\"]].sort_values(by = \"price\")\n",
    "plt.figure(figsize=(8, 6))\n",
    "sns.heatmap(target_corr, annot=True, cmap=\"coolwarm\", vmin=-1, vmax=1)\n",
    "plt.title(\"Correlation of Features with Price - Y\")\n",
    "plt.show()"
   ]
  },
  {
   "cell_type": "code",
   "execution_count": 302,
   "id": "23f37c3a",
   "metadata": {},
   "outputs": [],
   "source": [
    "# Dropping low correlated features"
   ]
  },
  {
   "cell_type": "code",
   "execution_count": 303,
   "id": "6e136a52",
   "metadata": {},
   "outputs": [],
   "source": [
    "\n",
    "\n",
    "data = df_replaced[[\"z\", \"x\", \"y\", \"carat\", \"price\"]]"
   ]
  },
  {
   "cell_type": "code",
   "execution_count": 304,
   "id": "593d4227",
   "metadata": {},
   "outputs": [
    {
     "data": {
      "text/html": [
       "<div>\n",
       "<style scoped>\n",
       "    .dataframe tbody tr th:only-of-type {\n",
       "        vertical-align: middle;\n",
       "    }\n",
       "\n",
       "    .dataframe tbody tr th {\n",
       "        vertical-align: top;\n",
       "    }\n",
       "\n",
       "    .dataframe thead th {\n",
       "        text-align: right;\n",
       "    }\n",
       "</style>\n",
       "<table border=\"1\" class=\"dataframe\">\n",
       "  <thead>\n",
       "    <tr style=\"text-align: right;\">\n",
       "      <th></th>\n",
       "      <th>z</th>\n",
       "      <th>x</th>\n",
       "      <th>y</th>\n",
       "      <th>carat</th>\n",
       "      <th>price</th>\n",
       "    </tr>\n",
       "  </thead>\n",
       "  <tbody>\n",
       "    <tr>\n",
       "      <th>0</th>\n",
       "      <td>2.43</td>\n",
       "      <td>3.95</td>\n",
       "      <td>3.98</td>\n",
       "      <td>0.23</td>\n",
       "      <td>326.0</td>\n",
       "    </tr>\n",
       "    <tr>\n",
       "      <th>1</th>\n",
       "      <td>2.31</td>\n",
       "      <td>3.89</td>\n",
       "      <td>3.84</td>\n",
       "      <td>0.21</td>\n",
       "      <td>326.0</td>\n",
       "    </tr>\n",
       "    <tr>\n",
       "      <th>2</th>\n",
       "      <td>2.31</td>\n",
       "      <td>4.05</td>\n",
       "      <td>4.07</td>\n",
       "      <td>0.23</td>\n",
       "      <td>327.0</td>\n",
       "    </tr>\n",
       "    <tr>\n",
       "      <th>3</th>\n",
       "      <td>2.63</td>\n",
       "      <td>4.20</td>\n",
       "      <td>4.23</td>\n",
       "      <td>0.29</td>\n",
       "      <td>334.0</td>\n",
       "    </tr>\n",
       "    <tr>\n",
       "      <th>4</th>\n",
       "      <td>2.75</td>\n",
       "      <td>4.34</td>\n",
       "      <td>4.35</td>\n",
       "      <td>0.31</td>\n",
       "      <td>335.0</td>\n",
       "    </tr>\n",
       "  </tbody>\n",
       "</table>\n",
       "</div>"
      ],
      "text/plain": [
       "      z     x     y  carat  price\n",
       "0  2.43  3.95  3.98   0.23  326.0\n",
       "1  2.31  3.89  3.84   0.21  326.0\n",
       "2  2.31  4.05  4.07   0.23  327.0\n",
       "3  2.63  4.20  4.23   0.29  334.0\n",
       "4  2.75  4.34  4.35   0.31  335.0"
      ]
     },
     "execution_count": 304,
     "metadata": {},
     "output_type": "execute_result"
    }
   ],
   "source": [
    "data.head()"
   ]
  },
  {
   "cell_type": "code",
   "execution_count": 305,
   "id": "0f78a474",
   "metadata": {},
   "outputs": [
    {
     "data": {
      "text/plain": [
       "(48890, 5)"
      ]
     },
     "execution_count": 305,
     "metadata": {},
     "output_type": "execute_result"
    }
   ],
   "source": [
    "data.shape"
   ]
  },
  {
   "cell_type": "code",
   "execution_count": 306,
   "id": "4bdebedd",
   "metadata": {},
   "outputs": [
    {
     "name": "stderr",
     "output_type": "stream",
     "text": [
      "<ipython-input-306-48a623a66630>:1: SettingWithCopyWarning: \n",
      "A value is trying to be set on a copy of a slice from a DataFrame\n",
      "\n",
      "See the caveats in the documentation: https://pandas.pydata.org/pandas-docs/stable/user_guide/indexing.html#returning-a-view-versus-a-copy\n",
      "  data.dropna(inplace = True)\n"
     ]
    }
   ],
   "source": [
    "data.dropna(inplace = True)"
   ]
  },
  {
   "cell_type": "code",
   "execution_count": 307,
   "id": "94de0416",
   "metadata": {},
   "outputs": [
    {
     "data": {
      "text/plain": [
       "(48815, 5)"
      ]
     },
     "execution_count": 307,
     "metadata": {},
     "output_type": "execute_result"
    }
   ],
   "source": [
    "data.shape"
   ]
  },
  {
   "cell_type": "code",
   "execution_count": 308,
   "id": "124c30d3",
   "metadata": {},
   "outputs": [],
   "source": [
    "### Data Preparation"
   ]
  },
  {
   "cell_type": "code",
   "execution_count": 309,
   "id": "d4351a7a",
   "metadata": {},
   "outputs": [],
   "source": [
    "## Shuffling dataframe"
   ]
  },
  {
   "cell_type": "code",
   "execution_count": 310,
   "id": "1b39bc40",
   "metadata": {},
   "outputs": [],
   "source": [
    "# data = data.sample(frac=1).reset_index(drop=True)"
   ]
  },
  {
   "cell_type": "code",
   "execution_count": 311,
   "id": "6536350b",
   "metadata": {},
   "outputs": [],
   "source": [
    "X = data.drop(columns = [\"price\"])\n",
    "Y = data[\"price\"]"
   ]
  },
  {
   "cell_type": "code",
   "execution_count": 312,
   "id": "b970bffc",
   "metadata": {},
   "outputs": [],
   "source": [
    "X = X.values\n",
    "Y = Y.values.reshape(-1, 1)"
   ]
  },
  {
   "cell_type": "code",
   "execution_count": 313,
   "id": "664f2644",
   "metadata": {},
   "outputs": [
    {
     "name": "stdout",
     "output_type": "stream",
     "text": [
      "Created Matrices: \n",
      "X : \n",
      " [[2.43 3.95 3.98 0.23]\n",
      " [2.31 3.89 3.84 0.21]\n",
      " [2.31 4.05 4.07 0.23]\n",
      " ...\n",
      " [3.56 5.66 5.68 0.7 ]\n",
      " [3.74 6.15 6.12 0.86]\n",
      " [3.64 5.83 5.87 0.75]]\n",
      "Y: \n",
      " [[ 326.]\n",
      " [ 326.]\n",
      " [ 327.]\n",
      " ...\n",
      " [2757.]\n",
      " [2757.]\n",
      " [2757.]]\n"
     ]
    }
   ],
   "source": [
    "print(\"Created Matrices: \")\n",
    "print(\"X : \\n\", X)\n",
    "print(\"Y: \\n\", Y)"
   ]
  },
  {
   "cell_type": "code",
   "execution_count": 314,
   "id": "0d85e9b4",
   "metadata": {},
   "outputs": [],
   "source": [
    "# 3.c Splitting the dataset into training (80%) and testing (20%)"
   ]
  },
  {
   "cell_type": "code",
   "execution_count": 315,
   "id": "76c5cc8a",
   "metadata": {},
   "outputs": [
    {
     "data": {
      "text/plain": [
       "39052"
      ]
     },
     "execution_count": 315,
     "metadata": {},
     "output_type": "execute_result"
    }
   ],
   "source": [
    "split = int(len(X) * 0.8)\n",
    "split"
   ]
  },
  {
   "cell_type": "code",
   "execution_count": 316,
   "id": "07094f02",
   "metadata": {},
   "outputs": [],
   "source": [
    "X_train, X_test = X[:split], X[split:]\n",
    "y_train, y_test = Y[:split], Y[split:]"
   ]
  },
  {
   "cell_type": "code",
   "execution_count": 317,
   "id": "9e1b8c25",
   "metadata": {},
   "outputs": [],
   "source": [
    "# 3.d Print the shapes of X_train, y_train, X_test, y_test"
   ]
  },
  {
   "cell_type": "code",
   "execution_count": 318,
   "id": "54613914",
   "metadata": {},
   "outputs": [
    {
     "name": "stdout",
     "output_type": "stream",
     "text": [
      "Shape of X_train: (39052, 4)\n",
      "Shape of y_train: (39052, 1)\n",
      "Shape of X_test: (9763, 4)\n",
      "Shape of y_test: (9763, 1)\n"
     ]
    }
   ],
   "source": [
    "print(f\"Shape of X_train: {X_train.shape}\")\n",
    "print(f\"Shape of y_train: {y_train.shape}\")\n",
    "print(f\"Shape of X_test: {X_test.shape}\")\n",
    "print(f\"Shape of y_test: {y_test.shape}\")"
   ]
  },
  {
   "cell_type": "code",
   "execution_count": null,
   "id": "2cc7daeb",
   "metadata": {},
   "outputs": [],
   "source": []
  },
  {
   "cell_type": "code",
   "execution_count": 319,
   "id": "49c0fc50",
   "metadata": {},
   "outputs": [],
   "source": [
    "# Normalizing features"
   ]
  },
  {
   "cell_type": "code",
   "execution_count": 320,
   "id": "c1cb89bb",
   "metadata": {},
   "outputs": [],
   "source": [
    "max_X_train = np.amax(X_train)\n",
    "min_X_train = np.amin(X_train)\n",
    "\n",
    "max_X_test = np.amax(X_test)\n",
    "min_X_test = np.amin(X_test)"
   ]
  },
  {
   "cell_type": "code",
   "execution_count": 321,
   "id": "4a8dc7fc",
   "metadata": {},
   "outputs": [
    {
     "data": {
      "text/plain": [
       "array([[2.43, 3.95, 3.98, 0.23],\n",
       "       [2.31, 3.89, 3.84, 0.21],\n",
       "       [2.31, 4.05, 4.07, 0.23],\n",
       "       ...,\n",
       "       [3.17, 5.4 , 5.35, 0.54],\n",
       "       [3.46, 5.47, 5.52, 0.64],\n",
       "       [2.97, 5.31, 5.22, 0.5 ]])"
      ]
     },
     "execution_count": 321,
     "metadata": {},
     "output_type": "execute_result"
    }
   ],
   "source": [
    "X_train"
   ]
  },
  {
   "cell_type": "code",
   "execution_count": 322,
   "id": "6fb3f5c4",
   "metadata": {},
   "outputs": [
    {
     "data": {
      "text/plain": [
       "0.2"
      ]
     },
     "execution_count": 322,
     "metadata": {},
     "output_type": "execute_result"
    }
   ],
   "source": [
    "min_X_train"
   ]
  },
  {
   "cell_type": "code",
   "execution_count": 323,
   "id": "0a762058",
   "metadata": {},
   "outputs": [
    {
     "data": {
      "text/plain": [
       "9.26"
      ]
     },
     "execution_count": 323,
     "metadata": {},
     "output_type": "execute_result"
    }
   ],
   "source": [
    "max_X_train"
   ]
  },
  {
   "cell_type": "code",
   "execution_count": null,
   "id": "9079ea30",
   "metadata": {},
   "outputs": [],
   "source": []
  },
  {
   "cell_type": "code",
   "execution_count": 324,
   "id": "7d2f4ddf",
   "metadata": {},
   "outputs": [
    {
     "data": {
      "text/plain": [
       "array([[0.24613687, 0.41390728, 0.41721854, 0.00331126],\n",
       "       [0.23289183, 0.40728477, 0.401766  , 0.00110375],\n",
       "       [0.23289183, 0.42494481, 0.42715232, 0.00331126],\n",
       "       ...,\n",
       "       [0.32781457, 0.57395143, 0.56843267, 0.03752759],\n",
       "       [0.3598234 , 0.5816777 , 0.58719647, 0.04856512],\n",
       "       [0.30573951, 0.56401766, 0.55408389, 0.03311258]])"
      ]
     },
     "execution_count": 324,
     "metadata": {},
     "output_type": "execute_result"
    }
   ],
   "source": [
    "(X_train - min_X_train) / (max_X_train - min_X_train)"
   ]
  },
  {
   "cell_type": "code",
   "execution_count": 325,
   "id": "3df14539",
   "metadata": {},
   "outputs": [],
   "source": [
    "X_train = (X_train - min_X_train) / (max_X_train - min_X_train)"
   ]
  },
  {
   "cell_type": "code",
   "execution_count": 326,
   "id": "1183b6e0",
   "metadata": {},
   "outputs": [],
   "source": [
    "X_test = (X_test - min_X_test) / (max_X_test - min_X_test)"
   ]
  },
  {
   "cell_type": "code",
   "execution_count": 327,
   "id": "776c0ab2",
   "metadata": {},
   "outputs": [],
   "source": [
    "max_y_train = np.amax(y_train)\n",
    "min_y_train = np.amin(y_train)\n",
    "\n",
    "max_y_test = np.amax(y_test)\n",
    "min_y_test = np.amin(y_test)"
   ]
  },
  {
   "cell_type": "code",
   "execution_count": 328,
   "id": "4406c5e2",
   "metadata": {},
   "outputs": [],
   "source": [
    "y_train = (y_train - min_y_train) / (max_y_train - min_y_train)\n",
    "y_test = (y_test - min_y_test) / (max_y_test - min_y_test)"
   ]
  },
  {
   "cell_type": "code",
   "execution_count": null,
   "id": "10806c23",
   "metadata": {},
   "outputs": [],
   "source": []
  },
  {
   "cell_type": "code",
   "execution_count": 329,
   "id": "e37589c5",
   "metadata": {},
   "outputs": [],
   "source": [
    "# Adding 1s for the intercept column"
   ]
  },
  {
   "cell_type": "code",
   "execution_count": 330,
   "id": "ebd57a8c",
   "metadata": {},
   "outputs": [],
   "source": [
    "X_train_b = np.hstack([np.ones((X_train.shape[0], 1)), X_train])\n",
    "X_test_b = np.hstack([np.ones((X_test.shape[0], 1)), X_test])"
   ]
  },
  {
   "cell_type": "code",
   "execution_count": 331,
   "id": "dabeffa9",
   "metadata": {},
   "outputs": [],
   "source": [
    "# 4 Linear regression using OLS"
   ]
  },
  {
   "cell_type": "code",
   "execution_count": 332,
   "id": "12ae00b0",
   "metadata": {},
   "outputs": [],
   "source": [
    "# 4.a w = (X^T X)^-1 X^T Y"
   ]
  },
  {
   "cell_type": "code",
   "execution_count": 333,
   "id": "761ff533",
   "metadata": {},
   "outputs": [],
   "source": [
    "w = np.linalg.inv(X_train_b.T @ X_train_b) @ (X_train_b.T @ y_train)"
   ]
  },
  {
   "cell_type": "code",
   "execution_count": 334,
   "id": "0c4b7035",
   "metadata": {},
   "outputs": [],
   "source": [
    "# 4.b Making the predictions"
   ]
  },
  {
   "cell_type": "code",
   "execution_count": 335,
   "id": "88d4e200",
   "metadata": {},
   "outputs": [],
   "source": [
    "y_train_pred = X_train_b @ w\n",
    "y_test_pred = X_test_b @ w"
   ]
  },
  {
   "cell_type": "code",
   "execution_count": 336,
   "id": "9d51e772",
   "metadata": {},
   "outputs": [],
   "source": [
    "# Mean squared error"
   ]
  },
  {
   "cell_type": "code",
   "execution_count": 337,
   "id": "7757ba43",
   "metadata": {},
   "outputs": [],
   "source": [
    "mse_train = np.mean((y_train - y_train_pred) ** 2)\n",
    "mse_test = np.mean((y_test - y_test_pred) ** 2)"
   ]
  },
  {
   "cell_type": "code",
   "execution_count": 338,
   "id": "60d65569",
   "metadata": {},
   "outputs": [
    {
     "name": "stdout",
     "output_type": "stream",
     "text": [
      "MSE of Training data: 0.017587617354992716\n",
      "MSE of Testing data: 0.1281225166660127\n"
     ]
    }
   ],
   "source": [
    "print(f\"MSE of Training data: {mse_train}\")\n",
    "print(f\"MSE of Testing data: {mse_test}\")\n"
   ]
  },
  {
   "cell_type": "code",
   "execution_count": 339,
   "id": "51d12d4e",
   "metadata": {},
   "outputs": [],
   "source": [
    "# 4.c Plot the predictions vs actual targets"
   ]
  },
  {
   "cell_type": "code",
   "execution_count": 340,
   "id": "7d5c06d7",
   "metadata": {},
   "outputs": [
    {
     "data": {
      "image/png": "[encoded data removed]",
      "text/plain": [
       "<Figure size 432x288 with 1 Axes>"
      ]
     },
     "metadata": {
      "needs_background": "light"
     },
     "output_type": "display_data"
    }
   ],
   "source": [
    "alpha = 0.4\n",
    "plt.scatter([i for i in range(len(y_test))], y_test, color=[alpha, 1., alpha], label=\"Actual\")\n",
    "plt.scatter([i for i in range(len(y_test))], y_test_pred, color=[1., alpha, alpha], label=\"Prediction\")\n",
    "plt.xlabel(\"Record #\")\n",
    "plt.ylabel('Value')\n",
    "plt.title('Actual X Predicted')\n",
    "plt.legend()\n",
    "plt.show()\n"
   ]
  },
  {
   "cell_type": "code",
   "execution_count": 341,
   "id": "6e6bafef",
   "metadata": {},
   "outputs": [],
   "source": [
    "w_linear = w"
   ]
  },
  {
   "cell_type": "code",
   "execution_count": 342,
   "id": "35d224b1",
   "metadata": {},
   "outputs": [],
   "source": [
    "# 5. Ridge regression using OLS"
   ]
  },
  {
   "cell_type": "code",
   "execution_count": 343,
   "id": "142817d6",
   "metadata": {},
   "outputs": [],
   "source": [
    "# Let lambda\n",
    "lambda_val = 0.7\n"
   ]
  },
  {
   "cell_type": "code",
   "execution_count": 344,
   "id": "7a40ad74",
   "metadata": {},
   "outputs": [],
   "source": [
    "# b. Computing weights"
   ]
  },
  {
   "cell_type": "code",
   "execution_count": null,
   "id": "49abb7f9",
   "metadata": {},
   "outputs": [],
   "source": []
  },
  {
   "cell_type": "code",
   "execution_count": 345,
   "id": "5aeecd62",
   "metadata": {},
   "outputs": [
    {
     "data": {
      "text/plain": [
       "5"
      ]
     },
     "execution_count": 345,
     "metadata": {},
     "output_type": "execute_result"
    }
   ],
   "source": [
    "X_train_b.shape[1]"
   ]
  },
  {
   "cell_type": "code",
   "execution_count": 346,
   "id": "797a599d",
   "metadata": {},
   "outputs": [],
   "source": [
    "I = np.zeros((5, 5))"
   ]
  },
  {
   "cell_type": "code",
   "execution_count": 347,
   "id": "6ae00a7b",
   "metadata": {},
   "outputs": [],
   "source": [
    "for idx in range(X_train_b.shape[1]):\n",
    "    I[idx, idx] = 1"
   ]
  },
  {
   "cell_type": "code",
   "execution_count": 348,
   "id": "560f2bc9",
   "metadata": {},
   "outputs": [],
   "source": [
    "# Calculating weights"
   ]
  },
  {
   "cell_type": "code",
   "execution_count": 349,
   "id": "16714156",
   "metadata": {},
   "outputs": [],
   "source": [
    "# w = (X^T X + Lambda I)^-1 X^T Y"
   ]
  },
  {
   "cell_type": "code",
   "execution_count": 350,
   "id": "1bca45b4",
   "metadata": {},
   "outputs": [],
   "source": [
    "w = np.linalg.inv(X_train_b.T @ X_train_b + lambda_val * I) @ (X_train_b.T @ y_train)"
   ]
  },
  {
   "cell_type": "code",
   "execution_count": 351,
   "id": "ecff41fd",
   "metadata": {},
   "outputs": [],
   "source": [
    "# Get predictions\n"
   ]
  },
  {
   "cell_type": "code",
   "execution_count": 352,
   "id": "8d31b770",
   "metadata": {},
   "outputs": [],
   "source": [
    "y_train_pred = X_train_b @ w\n",
    "y_test_pred = X_test_b @ w\n"
   ]
  },
  {
   "cell_type": "code",
   "execution_count": 353,
   "id": "f5b53116",
   "metadata": {},
   "outputs": [],
   "source": [
    "# Mean Square Error\n",
    "mse_train = np.mean((y_train - y_train_pred) ** 2)\n",
    "mse_test = np.mean((y_test - y_test_pred) ** 2)"
   ]
  },
  {
   "cell_type": "code",
   "execution_count": 354,
   "id": "45af1982",
   "metadata": {},
   "outputs": [
    {
     "name": "stdout",
     "output_type": "stream",
     "text": [
      "MSE of Training data: 0.017600854663950366\n",
      "MSE of Testing data: 0.12425951994438578\n"
     ]
    }
   ],
   "source": [
    "print(f\"MSE of Training data: {mse_train}\")\n",
    "print(f\"MSE of Testing data: {mse_test}\")\n"
   ]
  },
  {
   "cell_type": "code",
   "execution_count": 355,
   "id": "e2fa4f33",
   "metadata": {},
   "outputs": [
    {
     "data": {
      "image/png": "[encoded data removed]",
      "text/plain": [
       "<Figure size 432x288 with 1 Axes>"
      ]
     },
     "metadata": {
      "needs_background": "light"
     },
     "output_type": "display_data"
    }
   ],
   "source": [
    "alpha = 0.4\n",
    "plt.scatter([i for i in range(len(y_test))], y_test, color=[alpha, 1., alpha], label=\"Actual\")\n",
    "plt.scatter([i for i in range(len(y_test))], y_test_pred, color=[1., alpha, alpha], label=\"Prediction\")\n",
    "plt.xlabel(\"Record #\")\n",
    "plt.ylabel('Value')\n",
    "plt.title('Actual X Predicted - Ridge')\n",
    "plt.legend()\n",
    "plt.show()\n"
   ]
  },
  {
   "cell_type": "code",
   "execution_count": 356,
   "id": "1e4d7783",
   "metadata": {},
   "outputs": [
    {
     "data": {
      "text/plain": [
       "array([[-0.24770265],\n",
       "       [-0.05213424],\n",
       "       [-0.22290829],\n",
       "       [ 0.77079719],\n",
       "       [ 3.14596093]])"
      ]
     },
     "execution_count": 356,
     "metadata": {},
     "output_type": "execute_result"
    }
   ],
   "source": [
    "w"
   ]
  },
  {
   "cell_type": "code",
   "execution_count": 357,
   "id": "09fa95db",
   "metadata": {},
   "outputs": [],
   "source": [
    "import pickle\n",
    "with open('MANOGNA_VANAM_assignment1_part3.pickle', 'wb') as f:\n",
    "    pickle.dump({'weights': w}, f)"
   ]
  },
  {
   "cell_type": "code",
   "execution_count": null,
   "id": "c9bf3330",
   "metadata": {},
   "outputs": [],
   "source": [
    "# Refs:\n",
    "# https://www.analyticsvidhya.com/blog/2016/01/ridge-lasso-regression-python-complete-tutorial/\n",
    "# https://machinelearningmastery.com/ridge-regression-with-python/\n",
    "# https://jbhender.github.io/Stats506/F17/Projects/G13/Python.html\n",
    "# https://www.geeksforgeeks.org/ordinary-least-squares-and-ridge-regression-variance-in-scikit-learn/\n",
    "# https://keremkargin.medium.com/ridge-regression-fundamentals-and-modeling-in-python-bb56f4301f62\n",
    "\n",
    "\n",
    "\n"
   ]
  }
 ],
 "metadata": {
  "kernelspec": {
   "display_name": "Python 3",
   "language": "python",
   "name": "python3"
  },
  "language_info": {
   "codemirror_mode": {
    "name": "ipython",
    "version": 3
   },
   "file_extension": ".py",
   "mimetype": "text/x-python",
   "name": "python",
   "nbconvert_exporter": "python",
   "pygments_lexer": "ipython3",
   "version": "3.8.8"
  }
 },
 "nbformat": 4,
 "nbformat_minor": 5
}
